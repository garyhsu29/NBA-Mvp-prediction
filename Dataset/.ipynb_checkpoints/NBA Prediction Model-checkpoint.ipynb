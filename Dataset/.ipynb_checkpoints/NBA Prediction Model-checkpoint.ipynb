{
 "cells": [
  {
   "cell_type": "code",
   "execution_count": 1,
   "metadata": {},
   "outputs": [],
   "source": [
    "import pandas as pd\n",
    "import numpy as np"
   ]
  },
  {
   "cell_type": "code",
   "execution_count": 2,
   "metadata": {},
   "outputs": [],
   "source": [
    "#Read the file we produce in previous web crawler\n",
    "training_set = pd.read_csv('all_his_join.csv')\n",
    "test_set = pd.read_csv('all_his_join.csv')\n",
    "out_put_player = pd.read_csv('all_his_join.csv')"
   ]
  },
  {
   "cell_type": "code",
   "execution_count": 3,
   "metadata": {},
   "outputs": [],
   "source": [
    "# There are many field which is nah, use zero to filled in\n",
    "#(it's a little bit controversial here, the people never try 3PT shoot = the people try but never made)\n",
    "training_set.fillna(0, inplace = True)\n",
    "test_set.fillna(0, inplace = True)\n",
    "out_put_player.fillna(0,inplace = True)"
   ]
  },
  {
   "cell_type": "code",
   "execution_count": 4,
   "metadata": {},
   "outputs": [],
   "source": [
    "# build three part of data :\n",
    "#1. Training set\n",
    "#2. Testing set\n",
    "#3. Player sheet\n",
    "\n",
    "clean_train_set = training_set.drop([\"Lg\",\"Tm\",\"Player\",'MP_y','PTS_y','TRB_y','AST_y','STL_y','BLK_y','WS','WS/48','G_y'], axis=1)\n",
    "clean_test_set = test_set.drop([\"Lg\",\"Tm\",\"Player\",'MP_y','PTS_y','TRB_y','AST_y','STL_y','BLK_y','WS','WS/48','G_y'], axis=1)\n",
    "clean_out_put_player = out_put_player.drop([\"Lg\",\"Tm\",'MP_y','PTS_y','TRB_y','AST_y','STL_y','BLK_y','WS','WS/48','G_y'], axis=1)\n",
    "clean_train_set = clean_train_set[(clean_train_set['Season'] != '1979-80') & (clean_train_set['Season'] != '2017-18') ]\n",
    "clean_test_set = clean_test_set[test_set['Season']=='2017-18']\n",
    "\n",
    "clean_train_set = clean_train_set.drop(['Season'],axis=1)\n",
    "clean_test_set = clean_test_set.drop(['Season'],axis=1)"
   ]
  },
  {
   "cell_type": "code",
   "execution_count": 5,
   "metadata": {},
   "outputs": [],
   "source": [
    "# get dummies\n",
    "\n",
    "clean_train_set = pd.get_dummies(clean_train_set)\n",
    "clean_test_set = pd.get_dummies(clean_test_set)"
   ]
  },
  {
   "cell_type": "code",
   "execution_count": 6,
   "metadata": {},
   "outputs": [],
   "source": [
    "# build a decision tree based on sklearn\n",
    "from sklearn import linear_model\n",
    "from sklearn import ensemble\n",
    "from sklearn import tree"
   ]
  },
  {
   "cell_type": "code",
   "execution_count": 7,
   "metadata": {},
   "outputs": [
    {
     "data": {
      "text/plain": [
       "DecisionTreeRegressor(criterion='mse', max_depth=None, max_features=None,\n",
       "           max_leaf_nodes=None, min_impurity_decrease=0.0,\n",
       "           min_impurity_split=None, min_samples_leaf=1,\n",
       "           min_samples_split=2, min_weight_fraction_leaf=0.0,\n",
       "           presort=False, random_state=None, splitter='best')"
      ]
     },
     "execution_count": 7,
     "metadata": {},
     "output_type": "execute_result"
    }
   ],
   "source": [
    "# Remove voting results from our inputs\n",
    "X = clean_train_set.drop(['First', 'Share','Pts Won','Pts Max'], axis=1)\n",
    "\n",
    "\n",
    "# get the Share (which is mvp point the player get)\n",
    "y = clean_train_set['Share']\n",
    "\n",
    "# Train the decision tree\n",
    "my_decision_tree = tree.DecisionTreeRegressor()\n",
    "my_decision_tree.fit(X,y)\n"
   ]
  },
  {
   "cell_type": "code",
   "execution_count": 8,
   "metadata": {},
   "outputs": [
    {
     "data": {
      "text/html": [
       "<div>\n",
       "<style scoped>\n",
       "    .dataframe tbody tr th:only-of-type {\n",
       "        vertical-align: middle;\n",
       "    }\n",
       "\n",
       "    .dataframe tbody tr th {\n",
       "        vertical-align: top;\n",
       "    }\n",
       "\n",
       "    .dataframe thead th {\n",
       "        text-align: right;\n",
       "    }\n",
       "</style>\n",
       "<table border=\"1\" class=\"dataframe\">\n",
       "  <thead>\n",
       "    <tr style=\"text-align: right;\">\n",
       "      <th></th>\n",
       "      <th>Important Features</th>\n",
       "      <th>Scores</th>\n",
       "    </tr>\n",
       "  </thead>\n",
       "  <tbody>\n",
       "    <tr>\n",
       "      <th>20</th>\n",
       "      <td>PTS_x</td>\n",
       "      <td>0.298442</td>\n",
       "    </tr>\n",
       "    <tr>\n",
       "      <th>27</th>\n",
       "      <td>W</td>\n",
       "      <td>0.238064</td>\n",
       "    </tr>\n",
       "    <tr>\n",
       "      <th>14</th>\n",
       "      <td>TRB_x</td>\n",
       "      <td>0.082195</td>\n",
       "    </tr>\n",
       "    <tr>\n",
       "      <th>15</th>\n",
       "      <td>AST_x</td>\n",
       "      <td>0.045550</td>\n",
       "    </tr>\n",
       "    <tr>\n",
       "      <th>18</th>\n",
       "      <td>TOV</td>\n",
       "      <td>0.035990</td>\n",
       "    </tr>\n",
       "  </tbody>\n",
       "</table>\n",
       "</div>"
      ],
      "text/plain": [
       "   Important Features    Scores\n",
       "20              PTS_x  0.298442\n",
       "27                  W  0.238064\n",
       "14              TRB_x  0.082195\n",
       "15              AST_x  0.045550\n",
       "18                TOV  0.035990"
      ]
     },
     "execution_count": 8,
     "metadata": {},
     "output_type": "execute_result"
    }
   ],
   "source": [
    "# Get the importent Feature \n",
    "#(PTS_x : total point in the season)\n",
    "#(W: win game)\n",
    "#(the other index reference to https://www.basketball-reference.com/)\n",
    "importance = pd.DataFrame()\n",
    "importance['Important Features'] = X.columns\n",
    "importance['Scores'] = my_decision_tree.feature_importances_\n",
    "\n",
    "importance.sort_values('Scores', ascending=False).head(5)"
   ]
  },
  {
   "cell_type": "code",
   "execution_count": 9,
   "metadata": {},
   "outputs": [
    {
     "data": {
      "text/plain": [
       "0.9999953720660103"
      ]
     },
     "execution_count": 9,
     "metadata": {},
     "output_type": "execute_result"
    }
   ],
   "source": [
    "# Evaluate the decision tree\n",
    "my_decision_tree.score(X,y)"
   ]
  },
  {
   "cell_type": "code",
   "execution_count": 10,
   "metadata": {
    "scrolled": false
   },
   "outputs": [
    {
     "name": "stdout",
     "output_type": "stream",
     "text": [
      "Decision Tree: 2017-18 Season MVP prediction:\n"
     ]
    },
    {
     "data": {
      "text/html": [
       "<div>\n",
       "<style scoped>\n",
       "    .dataframe tbody tr th:only-of-type {\n",
       "        vertical-align: middle;\n",
       "    }\n",
       "\n",
       "    .dataframe tbody tr th {\n",
       "        vertical-align: top;\n",
       "    }\n",
       "\n",
       "    .dataframe thead th {\n",
       "        text-align: right;\n",
       "    }\n",
       "</style>\n",
       "<table border=\"1\" class=\"dataframe\">\n",
       "  <thead>\n",
       "    <tr style=\"text-align: right;\">\n",
       "      <th></th>\n",
       "      <th>Player</th>\n",
       "      <th>score</th>\n",
       "    </tr>\n",
       "  </thead>\n",
       "  <tbody>\n",
       "    <tr>\n",
       "      <th>193</th>\n",
       "      <td>James Harden</td>\n",
       "      <td>0.940</td>\n",
       "    </tr>\n",
       "    <tr>\n",
       "      <th>247</th>\n",
       "      <td>LeBron James</td>\n",
       "      <td>0.330</td>\n",
       "    </tr>\n",
       "    <tr>\n",
       "      <th>121</th>\n",
       "      <td>Anthony Davis</td>\n",
       "      <td>0.330</td>\n",
       "    </tr>\n",
       "    <tr>\n",
       "      <th>482</th>\n",
       "      <td>Karl-Anthony Towns</td>\n",
       "      <td>0.231</td>\n",
       "    </tr>\n",
       "    <tr>\n",
       "      <th>111</th>\n",
       "      <td>DeMarcus Cousins</td>\n",
       "      <td>0.033</td>\n",
       "    </tr>\n",
       "  </tbody>\n",
       "</table>\n",
       "</div>"
      ],
      "text/plain": [
       "                 Player  score\n",
       "193        James Harden  0.940\n",
       "247        LeBron James  0.330\n",
       "121       Anthony Davis  0.330\n",
       "482  Karl-Anthony Towns  0.231\n",
       "111    DeMarcus Cousins  0.033"
      ]
     },
     "execution_count": 10,
     "metadata": {},
     "output_type": "execute_result"
    }
   ],
   "source": [
    "# get the test X\n",
    "X_test = clean_test_set.drop(['First','Share','Pts Won','Pts Max'], axis=1)\n",
    "\n",
    "#use the build in function predict to predict the test data\n",
    "test_pred = my_decision_tree.predict(X_test)\n",
    "\n",
    "test_results = pd.DataFrame(clean_test_set)\n",
    "test_results['score'] = test_pred\n",
    "\n",
    "# we delete the player field in previous step, so we join the player to illustrate which player would get the higher mvp score\n",
    "final_pd = pd.merge(test_results,out_put_player,on=['Age','G_x','MP_x','FG','FGA','2P','2PA','3PA','3P','FT','FTA','ORB','DRB','TOV','PF','FG%','2P%','3P%','eFG%','FT%','TS%','First','Pts Won','Pts Max','Share','W','L'])\n",
    "\n",
    "\n",
    "final_pd = final_pd[['Player','score']]\n",
    "print('Decision Tree: 2017-18 Season MVP prediction:')\n",
    "final_pd.sort_values('score', ascending=False).head(5)\n"
   ]
  },
  {
   "cell_type": "code",
   "execution_count": 11,
   "metadata": {},
   "outputs": [],
   "source": [
    "#The format of final data is slightly different to the regular season data, \n",
    "#so we need more precess to fetch the data in correct way\n",
    "X_test_Final = pd.read_csv('final_file_raw.csv')\n",
    "X_test_Final.fillna(0, inplace = True)\n",
    "my_final_player = pd.read_csv('final_with_player.csv')\n",
    "my_final_player.fillna(0, inplace = True)"
   ]
  },
  {
   "cell_type": "code",
   "execution_count": null,
   "metadata": {},
   "outputs": [],
   "source": []
  },
  {
   "cell_type": "code",
   "execution_count": 12,
   "metadata": {},
   "outputs": [
    {
     "name": "stdout",
     "output_type": "stream",
     "text": [
      "Random Forest: 2017-18 Season MVP prediction:\n"
     ]
    },
    {
     "data": {
      "text/html": [
       "<div>\n",
       "<style scoped>\n",
       "    .dataframe tbody tr th:only-of-type {\n",
       "        vertical-align: middle;\n",
       "    }\n",
       "\n",
       "    .dataframe tbody tr th {\n",
       "        vertical-align: top;\n",
       "    }\n",
       "\n",
       "    .dataframe thead th {\n",
       "        text-align: right;\n",
       "    }\n",
       "</style>\n",
       "<table border=\"1\" class=\"dataframe\">\n",
       "  <thead>\n",
       "    <tr style=\"text-align: right;\">\n",
       "      <th></th>\n",
       "      <th>Player</th>\n",
       "      <th>score</th>\n",
       "    </tr>\n",
       "  </thead>\n",
       "  <tbody>\n",
       "    <tr>\n",
       "      <th>193</th>\n",
       "      <td>James Harden</td>\n",
       "      <td>0.618800</td>\n",
       "    </tr>\n",
       "    <tr>\n",
       "      <th>247</th>\n",
       "      <td>LeBron James</td>\n",
       "      <td>0.251440</td>\n",
       "    </tr>\n",
       "    <tr>\n",
       "      <th>297</th>\n",
       "      <td>Damian Lillard</td>\n",
       "      <td>0.145841</td>\n",
       "    </tr>\n",
       "    <tr>\n",
       "      <th>142</th>\n",
       "      <td>Kevin Durant</td>\n",
       "      <td>0.136601</td>\n",
       "    </tr>\n",
       "    <tr>\n",
       "      <th>121</th>\n",
       "      <td>Anthony Davis</td>\n",
       "      <td>0.111601</td>\n",
       "    </tr>\n",
       "  </tbody>\n",
       "</table>\n",
       "</div>"
      ],
      "text/plain": [
       "             Player     score\n",
       "193    James Harden  0.618800\n",
       "247    LeBron James  0.251440\n",
       "297  Damian Lillard  0.145841\n",
       "142    Kevin Durant  0.136601\n",
       "121   Anthony Davis  0.111601"
      ]
     },
     "execution_count": 12,
     "metadata": {},
     "output_type": "execute_result"
    }
   ],
   "source": [
    "# Try again with Random Forest\n",
    "my_rdfroest = ensemble.RandomForestRegressor(n_estimators=25)\n",
    "my_rdfroest.fit(X,y)\n",
    "test_pred = my_rdfroest.predict(X_test)\n",
    "\n",
    "test_results = pd.DataFrame(clean_test_set)\n",
    "test_results['score'] = test_pred\n",
    "\n",
    "# we delete the player field in previous step, so we join the player to illustrate which player would get the higher mvp score\n",
    "final_pd = pd.merge(test_results,out_put_player,on=['Age','G_x','MP_x','FG','FGA','2P','2PA','3PA','3P','FT','FTA','ORB','DRB','TOV','PF','FG%','2P%','3P%','eFG%','FT%','TS%','First','Pts Won','Pts Max','Share','W','L'])\n",
    "\n",
    "final_pd = final_pd[['Player','score']]\n",
    "print('Random Forest: 2017-18 Season MVP prediction:')\n",
    "final_pd.sort_values('score', ascending=False).head(5)"
   ]
  },
  {
   "cell_type": "code",
   "execution_count": 13,
   "metadata": {},
   "outputs": [
    {
     "name": "stdout",
     "output_type": "stream",
     "text": [
      "Decision Tree: 2017-18 Finals MVP prediction:\n"
     ]
    },
    {
     "data": {
      "text/html": [
       "<div>\n",
       "<style scoped>\n",
       "    .dataframe tbody tr th:only-of-type {\n",
       "        vertical-align: middle;\n",
       "    }\n",
       "\n",
       "    .dataframe tbody tr th {\n",
       "        vertical-align: top;\n",
       "    }\n",
       "\n",
       "    .dataframe thead th {\n",
       "        text-align: right;\n",
       "    }\n",
       "</style>\n",
       "<table border=\"1\" class=\"dataframe\">\n",
       "  <thead>\n",
       "    <tr style=\"text-align: right;\">\n",
       "      <th></th>\n",
       "      <th>Unnamed: 0</th>\n",
       "      <th>score</th>\n",
       "    </tr>\n",
       "  </thead>\n",
       "  <tbody>\n",
       "    <tr>\n",
       "      <th>14</th>\n",
       "      <td>LeBron James</td>\n",
       "      <td>7.040000e-01</td>\n",
       "    </tr>\n",
       "    <tr>\n",
       "      <th>15</th>\n",
       "      <td>Kevin Love</td>\n",
       "      <td>4.840000e-01</td>\n",
       "    </tr>\n",
       "    <tr>\n",
       "      <th>3</th>\n",
       "      <td>Draymond Green</td>\n",
       "      <td>2.580000e-01</td>\n",
       "    </tr>\n",
       "    <tr>\n",
       "      <th>13</th>\n",
       "      <td>Patrick McCaw</td>\n",
       "      <td>9.651733e-07</td>\n",
       "    </tr>\n",
       "    <tr>\n",
       "      <th>25</th>\n",
       "      <td>Jose Calderon</td>\n",
       "      <td>9.651733e-07</td>\n",
       "    </tr>\n",
       "    <tr>\n",
       "      <th>24</th>\n",
       "      <td>Ante Zizic</td>\n",
       "      <td>9.651733e-07</td>\n",
       "    </tr>\n",
       "    <tr>\n",
       "      <th>23</th>\n",
       "      <td>Kyle Korver</td>\n",
       "      <td>9.651733e-07</td>\n",
       "    </tr>\n",
       "    <tr>\n",
       "      <th>22</th>\n",
       "      <td>Jordan Clarkson</td>\n",
       "      <td>9.651733e-07</td>\n",
       "    </tr>\n",
       "    <tr>\n",
       "      <th>21</th>\n",
       "      <td>Jeff Green</td>\n",
       "      <td>9.651733e-07</td>\n",
       "    </tr>\n",
       "    <tr>\n",
       "      <th>20</th>\n",
       "      <td>Larry Nance</td>\n",
       "      <td>9.651733e-07</td>\n",
       "    </tr>\n",
       "  </tbody>\n",
       "</table>\n",
       "</div>"
      ],
      "text/plain": [
       "         Unnamed: 0         score\n",
       "14     LeBron James  7.040000e-01\n",
       "15       Kevin Love  4.840000e-01\n",
       "3    Draymond Green  2.580000e-01\n",
       "13    Patrick McCaw  9.651733e-07\n",
       "25    Jose Calderon  9.651733e-07\n",
       "24       Ante Zizic  9.651733e-07\n",
       "23      Kyle Korver  9.651733e-07\n",
       "22  Jordan Clarkson  9.651733e-07\n",
       "21       Jeff Green  9.651733e-07\n",
       "20      Larry Nance  9.651733e-07"
      ]
     },
     "execution_count": 13,
     "metadata": {},
     "output_type": "execute_result"
    }
   ],
   "source": [
    "#Decision Tree prediction\n",
    "#use the build in function predict to predict the test data\n",
    "final_pred = my_decision_tree.predict(X_test_Final)\n",
    "\n",
    "test_results_fame = pd.DataFrame(my_final_player)\n",
    "test_results_fame['score'] = final_pred\n",
    "\n",
    "test_results_fame = test_results_fame[['Unnamed: 0','score']]\n",
    "print('Decision Tree: 2017-18 Finals MVP prediction:')\n",
    "test_results_fame.sort_values('score', ascending=False).head(10)\n",
    "\n",
    "# The result would be a little be weird, because the 2P, 2PA and 2P% did not record in the Finals statics data\n",
    "#(many fields are 0) "
   ]
  },
  {
   "cell_type": "code",
   "execution_count": 14,
   "metadata": {},
   "outputs": [
    {
     "name": "stdout",
     "output_type": "stream",
     "text": [
      "Random Forest Tree: 2017-18 Finals MVP prediction:\n"
     ]
    },
    {
     "data": {
      "text/html": [
       "<div>\n",
       "<style scoped>\n",
       "    .dataframe tbody tr th:only-of-type {\n",
       "        vertical-align: middle;\n",
       "    }\n",
       "\n",
       "    .dataframe tbody tr th {\n",
       "        vertical-align: top;\n",
       "    }\n",
       "\n",
       "    .dataframe thead th {\n",
       "        text-align: right;\n",
       "    }\n",
       "</style>\n",
       "<table border=\"1\" class=\"dataframe\">\n",
       "  <thead>\n",
       "    <tr style=\"text-align: right;\">\n",
       "      <th></th>\n",
       "      <th>Unnamed: 0</th>\n",
       "      <th>score</th>\n",
       "    </tr>\n",
       "  </thead>\n",
       "  <tbody>\n",
       "    <tr>\n",
       "      <th>1</th>\n",
       "      <td>Stephen Curry</td>\n",
       "      <td>0.719640</td>\n",
       "    </tr>\n",
       "    <tr>\n",
       "      <th>0</th>\n",
       "      <td>Kevin Durant</td>\n",
       "      <td>0.612920</td>\n",
       "    </tr>\n",
       "    <tr>\n",
       "      <th>14</th>\n",
       "      <td>LeBron James</td>\n",
       "      <td>0.515520</td>\n",
       "    </tr>\n",
       "    <tr>\n",
       "      <th>3</th>\n",
       "      <td>Draymond Green</td>\n",
       "      <td>0.094601</td>\n",
       "    </tr>\n",
       "    <tr>\n",
       "      <th>15</th>\n",
       "      <td>Kevin Love</td>\n",
       "      <td>0.050002</td>\n",
       "    </tr>\n",
       "    <tr>\n",
       "      <th>2</th>\n",
       "      <td>Klay Thompson</td>\n",
       "      <td>0.024002</td>\n",
       "    </tr>\n",
       "    <tr>\n",
       "      <th>4</th>\n",
       "      <td>JaVale McGee</td>\n",
       "      <td>0.000002</td>\n",
       "    </tr>\n",
       "    <tr>\n",
       "      <th>10</th>\n",
       "      <td>David West</td>\n",
       "      <td>0.000002</td>\n",
       "    </tr>\n",
       "    <tr>\n",
       "      <th>12</th>\n",
       "      <td>Quinn Cook</td>\n",
       "      <td>0.000002</td>\n",
       "    </tr>\n",
       "    <tr>\n",
       "      <th>11</th>\n",
       "      <td>Nick Young</td>\n",
       "      <td>0.000002</td>\n",
       "    </tr>\n",
       "  </tbody>\n",
       "</table>\n",
       "</div>"
      ],
      "text/plain": [
       "        Unnamed: 0     score\n",
       "1    Stephen Curry  0.719640\n",
       "0     Kevin Durant  0.612920\n",
       "14    LeBron James  0.515520\n",
       "3   Draymond Green  0.094601\n",
       "15      Kevin Love  0.050002\n",
       "2    Klay Thompson  0.024002\n",
       "4     JaVale McGee  0.000002\n",
       "10      David West  0.000002\n",
       "12      Quinn Cook  0.000002\n",
       "11      Nick Young  0.000002"
      ]
     },
     "execution_count": 14,
     "metadata": {},
     "output_type": "execute_result"
    }
   ],
   "source": [
    "#use the build in function \"predict\" to predict the test data\n",
    "final_pred = my_rdfroest.predict(X_test_Final)\n",
    "\n",
    "test_results_fame = pd.DataFrame(my_final_player)\n",
    "test_results_fame['score'] = final_pred\n",
    "#print(test_pred)\n",
    "test_results_fame = test_results_fame[['Unnamed: 0','score']]\n",
    "print('Random Forest Tree: 2017-18 Finals MVP prediction:')\n",
    "test_results_fame.sort_values('score', ascending=False).head(10)\n"
   ]
  },
  {
   "cell_type": "code",
   "execution_count": 15,
   "metadata": {},
   "outputs": [
    {
     "name": "stdout",
     "output_type": "stream",
     "text": [
      "Gradient Boosting: 2017-18 Finals MVP prediction:\n"
     ]
    },
    {
     "data": {
      "text/html": [
       "<div>\n",
       "<style scoped>\n",
       "    .dataframe tbody tr th:only-of-type {\n",
       "        vertical-align: middle;\n",
       "    }\n",
       "\n",
       "    .dataframe tbody tr th {\n",
       "        vertical-align: top;\n",
       "    }\n",
       "\n",
       "    .dataframe thead th {\n",
       "        text-align: right;\n",
       "    }\n",
       "</style>\n",
       "<table border=\"1\" class=\"dataframe\">\n",
       "  <thead>\n",
       "    <tr style=\"text-align: right;\">\n",
       "      <th></th>\n",
       "      <th>Unnamed: 0</th>\n",
       "      <th>score</th>\n",
       "    </tr>\n",
       "  </thead>\n",
       "  <tbody>\n",
       "    <tr>\n",
       "      <th>0</th>\n",
       "      <td>Kevin Durant</td>\n",
       "      <td>0.729660</td>\n",
       "    </tr>\n",
       "    <tr>\n",
       "      <th>1</th>\n",
       "      <td>Stephen Curry</td>\n",
       "      <td>0.350118</td>\n",
       "    </tr>\n",
       "    <tr>\n",
       "      <th>14</th>\n",
       "      <td>LeBron James</td>\n",
       "      <td>0.333794</td>\n",
       "    </tr>\n",
       "    <tr>\n",
       "      <th>3</th>\n",
       "      <td>Draymond Green</td>\n",
       "      <td>0.026112</td>\n",
       "    </tr>\n",
       "    <tr>\n",
       "      <th>15</th>\n",
       "      <td>Kevin Love</td>\n",
       "      <td>0.013948</td>\n",
       "    </tr>\n",
       "  </tbody>\n",
       "</table>\n",
       "</div>"
      ],
      "text/plain": [
       "        Unnamed: 0     score\n",
       "0     Kevin Durant  0.729660\n",
       "1    Stephen Curry  0.350118\n",
       "14    LeBron James  0.333794\n",
       "3   Draymond Green  0.026112\n",
       "15      Kevin Love  0.013948"
      ]
     },
     "execution_count": 15,
     "metadata": {},
     "output_type": "execute_result"
    }
   ],
   "source": [
    "#using Gradient Boosting to predict the result\n",
    "GBR = ensemble.GradientBoostingRegressor()\n",
    "GBR.fit(X,y)\n",
    "GBR_test_pred = GBR.predict(X_test_Final)\n",
    "GBR_test_results = pd.DataFrame(my_final_player)\n",
    "GBR_test_results['score'] = GBR_test_pred\n",
    "GBR_test_results = GBR_test_results[['Unnamed: 0','score']]\n",
    "print('Gradient Boosting: 2017-18 Finals MVP prediction:')\n",
    "GBR_test_results.sort_values('score', ascending=False).head(5)\n"
   ]
  },
  {
   "cell_type": "code",
   "execution_count": null,
   "metadata": {},
   "outputs": [],
   "source": []
  }
 ],
 "metadata": {
  "kernelspec": {
   "display_name": "Python 3",
   "language": "python",
   "name": "python3"
  },
  "language_info": {
   "codemirror_mode": {
    "name": "ipython",
    "version": 3
   },
   "file_extension": ".py",
   "mimetype": "text/x-python",
   "name": "python",
   "nbconvert_exporter": "python",
   "pygments_lexer": "ipython3",
   "version": "3.6.4"
  }
 },
 "nbformat": 4,
 "nbformat_minor": 2
}
