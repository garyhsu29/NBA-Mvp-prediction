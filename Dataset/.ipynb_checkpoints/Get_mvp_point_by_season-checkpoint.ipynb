{
 "cells": [
  {
   "cell_type": "code",
   "execution_count": 1,
   "metadata": {},
   "outputs": [],
   "source": [
    "from bs4 import BeautifulSoup\n",
    "import requests\n",
    "import pandas as pd"
   ]
  },
  {
   "cell_type": "code",
   "execution_count": 2,
   "metadata": {},
   "outputs": [
    {
     "name": "stdout",
     "output_type": "stream",
     "text": [
      "2017 OK\n",
      "2016 OK\n",
      "2015 OK\n",
      "2014 OK\n",
      "2013 OK\n",
      "2012 OK\n",
      "2011 OK\n",
      "2010 OK\n",
      "2009 OK\n",
      "2008 OK\n",
      "2007 OK\n",
      "2006 OK\n",
      "2005 OK\n",
      "2004 OK\n",
      "2003 OK\n",
      "2002 OK\n",
      "2001 OK\n",
      "2000 OK\n",
      "1999 OK\n",
      "1998 OK\n",
      "1997 OK\n",
      "1996 OK\n",
      "1995 OK\n",
      "1994 OK\n",
      "1993 OK\n",
      "1992 OK\n",
      "1991 OK\n",
      "1990 OK\n",
      "1989 OK\n",
      "1988 OK\n",
      "1987 OK\n",
      "1986 OK\n",
      "1985 OK\n",
      "1984 OK\n",
      "1983 OK\n",
      "1982 OK\n",
      "1981 OK\n",
      "['Player', 'Age', 'Tm', 'Season', 'First', 'Pts Won', 'Pts Max', 'Share', 'G', 'MP', 'PTS', 'TRB', 'AST', 'STL', 'BLK', 'FG%', '3P%', 'FT%', 'WS', 'WS/48']\n"
     ]
    }
   ],
   "source": [
    "field_name = []\n",
    "player_list=[]\n",
    "year = 37\n",
    "start = 2017\n",
    "\n",
    "def fetch_record(NBA_tag_td,year) : \n",
    "    record = []\n",
    "    i = 0\n",
    "    for tag in NBA_tag_td:\n",
    "        if i >= 190:\n",
    "            break\n",
    "        if i % 19 ==3:\n",
    "            year_app = year%100\n",
    "            if year_app == 0 :\n",
    "                record.append(str(year-1)+'-'+\"00\") \n",
    "            else:\n",
    "                record.append(str(year-1)+'-'+str(year_app))\n",
    "        record.append(tag.string)\n",
    "        i += 1\n",
    "    return record\n",
    "\n",
    "def chunks(mylist, n):\n",
    "    return [mylist[i:i+n] for i in range(0, len(mylist), n)]\n",
    "\n",
    "def get_all_mvp(start,years):\n",
    "    end_year = 2017 - 37\n",
    "    while start > end_year:\n",
    "        webpage = 'https://www.basketball-reference.com/awards/awards_' + str (start) + '.html#mvp'\n",
    "        link_mvp = requests.get(webpage)\n",
    "\n",
    "        if link_mvp.status_code == requests.codes.ok:\n",
    "            print(str(start)+\" OK\")\n",
    "        else:\n",
    "            print(\"Webpage Broke\")\n",
    "\n",
    "\n",
    "        NBA_doc = link_mvp.text\n",
    "        NBA_soup = BeautifulSoup(NBA_doc, 'html.parser')\n",
    "        NBA_td = NBA_soup.find_all(\"td\")\n",
    "        NBA_th = NBA_soup.find_all(\"th\")  \n",
    "        player_list.append(fetch_record(NBA_td,start))\n",
    "        \n",
    "        start -= 1\n",
    "    k=0 \n",
    "    for tag in NBA_th:\n",
    "        k += 1 \n",
    "        if 8 <= k <= 26:\n",
    "            field_name.append(tag.string)\n",
    "    return player_list\n",
    "\n",
    "my_mvp_list = get_all_mvp(start,year)\n",
    "#print(my_mvp_list)\n",
    "\n",
    "field_name.insert(3,\"Season\")\n",
    "my_mvp_list.insert(0,field_name)\n",
    "print(field_name)"
   ]
  },
  {
   "cell_type": "code",
   "execution_count": 3,
   "metadata": {},
   "outputs": [],
   "source": [
    "for i in range(0,year):\n",
    "    new_list = (chunks(my_mvp_list[i],20))\n",
    "    my_df = pd.DataFrame(new_list)\n",
    "    my_df.to_csv('all_mvp_his.csv', mode='a',index=False, header=False)"
   ]
  },
  {
   "cell_type": "code",
   "execution_count": null,
   "metadata": {},
   "outputs": [],
   "source": []
  }
 ],
 "metadata": {
  "kernelspec": {
   "display_name": "Python 3",
   "language": "python",
   "name": "python3"
  },
  "language_info": {
   "codemirror_mode": {
    "name": "ipython",
    "version": 3
   },
   "file_extension": ".py",
   "mimetype": "text/x-python",
   "name": "python",
   "nbconvert_exporter": "python",
   "pygments_lexer": "ipython3",
   "version": "3.6.4"
  }
 },
 "nbformat": 4,
 "nbformat_minor": 2
}
