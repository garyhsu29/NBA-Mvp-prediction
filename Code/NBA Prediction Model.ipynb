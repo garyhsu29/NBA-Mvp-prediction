{
 "cells": [
  {
   "cell_type": "code",
   "execution_count": 1,
   "metadata": {},
   "outputs": [],
   "source": [
    "import pandas as pd\n",
    "import numpy as np"
   ]
  },
  {
   "cell_type": "code",
   "execution_count": 2,
   "metadata": {},
   "outputs": [],
   "source": [
    "#Read the file we produce in previous web crawler\n",
    "training_set = pd.read_csv('../Dataset/all_his_join.csv')\n",
    "test_set = pd.read_csv('../Dataset/all_his_join.csv')\n",
    "out_put_player = pd.read_csv('../Dataset/all_his_join.csv')"
   ]
  },
  {
   "cell_type": "code",
   "execution_count": 3,
   "metadata": {},
   "outputs": [],
   "source": [
    "# There are many field which is nah, use zero to filled in\n",
    "#(it's a little bit controversial here, the people never try 3PT shoot = the people try but never made)\n",
    "training_set.fillna(0, inplace = True)\n",
    "test_set.fillna(0, inplace = True)\n",
    "out_put_player.fillna(0,inplace = True)"
   ]
  },
  {
   "cell_type": "code",
   "execution_count": 4,
   "metadata": {},
   "outputs": [],
   "source": [
    "# build three part of data :\n",
    "#1. Training set\n",
    "#2. Testing set\n",
    "#3. Player sheet\n",
    "\n",
    "clean_train_set = training_set.drop([\"Lg\",\"Tm\",\"Player\",'MP_y','PTS_y','TRB_y','AST_y','STL_y','BLK_y','WS','WS/48','G_y'], axis=1)\n",
    "clean_test_set = test_set.drop([\"Lg\",\"Tm\",\"Player\",'MP_y','PTS_y','TRB_y','AST_y','STL_y','BLK_y','WS','WS/48','G_y'], axis=1)\n",
    "clean_out_put_player = out_put_player.drop([\"Lg\",\"Tm\",'MP_y','PTS_y','TRB_y','AST_y','STL_y','BLK_y','WS','WS/48','G_y'], axis=1)\n",
    "clean_train_set = clean_train_set[(clean_train_set['Season'] != '1979-80') & (clean_train_set['Season'] != '2017-18') ]\n",
    "clean_test_set = clean_test_set[test_set['Season']=='2017-18']\n",
    "\n",
    "clean_train_set = clean_train_set.drop(['Season'],axis=1)\n",
    "clean_test_set = clean_test_set.drop(['Season'],axis=1)"
   ]
  },
  {
   "cell_type": "code",
   "execution_count": 5,
   "metadata": {},
   "outputs": [],
   "source": [
    "# get dummies\n",
    "\n",
    "clean_train_set = pd.get_dummies(clean_train_set)\n",
    "clean_test_set = pd.get_dummies(clean_test_set)"
   ]
  },
  {
   "cell_type": "code",
   "execution_count": 6,
   "metadata": {},
   "outputs": [],
   "source": [
    "# build a decision tree based on sklearn\n",
    "from sklearn import linear_model\n",
    "from sklearn import ensemble\n",
    "from sklearn import tree"
   ]
  },
  {
   "cell_type": "code",
   "execution_count": 7,
   "metadata": {},
   "outputs": [
    {
     "data": {
      "text/plain": [
       "DecisionTreeRegressor(criterion='mse', max_depth=None, max_features=None,\n",
       "           max_leaf_nodes=None, min_impurity_decrease=0.0,\n",
       "           min_impurity_split=None, min_samples_leaf=1,\n",
       "           min_samples_split=2, min_weight_fraction_leaf=0.0,\n",
       "           presort=False, random_state=None, splitter='best')"
      ]
     },
     "execution_count": 7,
     "metadata": {},
     "output_type": "execute_result"
    }
   ],
   "source": [
    "# Remove voting results from our inputs\n",
    "X = clean_train_set.drop(['First', 'Share','Pts Won','Pts Max'], axis=1)\n",
    "\n",
    "\n",
    "# get the Share (which is mvp point the player get)\n",
    "y = clean_train_set['Share']\n",
    "\n",
    "# Train the decision tree\n",
    "my_decision_tree = tree.DecisionTreeRegressor()\n",
    "my_decision_tree.fit(X,y)\n"
   ]
  },
  {
   "cell_type": "code",
   "execution_count": 8,
   "metadata": {},
   "outputs": [
    {
     "data": {
      "text/html": [
       "<div>\n",
       "<style scoped>\n",
       "    .dataframe tbody tr th:only-of-type {\n",
       "        vertical-align: middle;\n",
       "    }\n",
       "\n",
       "    .dataframe tbody tr th {\n",
       "        vertical-align: top;\n",
       "    }\n",
       "\n",
       "    .dataframe thead th {\n",
       "        text-align: right;\n",
       "    }\n",
       "</style>\n",
       "<table border=\"1\" class=\"dataframe\">\n",
       "  <thead>\n",
       "    <tr style=\"text-align: right;\">\n",
       "      <th></th>\n",
       "      <th>Important Features</th>\n",
       "      <th>Scores</th>\n",
       "    </tr>\n",
       "  </thead>\n",
       "  <tbody>\n",
       "    <tr>\n",
       "      <th>20</th>\n",
       "      <td>PTS_x</td>\n",
       "      <td>0.300880</td>\n",
       "    </tr>\n",
       "    <tr>\n",
       "      <th>27</th>\n",
       "      <td>W</td>\n",
       "      <td>0.240963</td>\n",
       "    </tr>\n",
       "    <tr>\n",
       "      <th>14</th>\n",
       "      <td>TRB_x</td>\n",
       "      <td>0.090535</td>\n",
       "    </tr>\n",
       "    <tr>\n",
       "      <th>15</th>\n",
       "      <td>AST_x</td>\n",
       "      <td>0.046162</td>\n",
       "    </tr>\n",
       "    <tr>\n",
       "      <th>18</th>\n",
       "      <td>TOV</td>\n",
       "      <td>0.035679</td>\n",
       "    </tr>\n",
       "    <tr>\n",
       "      <th>1</th>\n",
       "      <td>G_x</td>\n",
       "      <td>0.031133</td>\n",
       "    </tr>\n",
       "    <tr>\n",
       "      <th>11</th>\n",
       "      <td>FTA</td>\n",
       "      <td>0.030204</td>\n",
       "    </tr>\n",
       "    <tr>\n",
       "      <th>3</th>\n",
       "      <td>MP_x</td>\n",
       "      <td>0.024633</td>\n",
       "    </tr>\n",
       "    <tr>\n",
       "      <th>8</th>\n",
       "      <td>3P</td>\n",
       "      <td>0.023505</td>\n",
       "    </tr>\n",
       "    <tr>\n",
       "      <th>4</th>\n",
       "      <td>FG</td>\n",
       "      <td>0.022932</td>\n",
       "    </tr>\n",
       "  </tbody>\n",
       "</table>\n",
       "</div>"
      ],
      "text/plain": [
       "   Important Features    Scores\n",
       "20              PTS_x  0.300880\n",
       "27                  W  0.240963\n",
       "14              TRB_x  0.090535\n",
       "15              AST_x  0.046162\n",
       "18                TOV  0.035679\n",
       "1                 G_x  0.031133\n",
       "11                FTA  0.030204\n",
       "3                MP_x  0.024633\n",
       "8                  3P  0.023505\n",
       "4                  FG  0.022932"
      ]
     },
     "execution_count": 8,
     "metadata": {},
     "output_type": "execute_result"
    }
   ],
   "source": [
    "# Get the importent Feature \n",
    "#(PTS_x : total point in the season)\n",
    "#(W: win game)\n",
    "#(the other index reference to https://www.basketball-reference.com/)\n",
    "importance = pd.DataFrame()\n",
    "importance['Important Features'] = X.columns\n",
    "importance['Scores'] = my_decision_tree.feature_importances_\n",
    "\n",
    "importance.sort_values('Scores', ascending=False).head(10)"
   ]
  },
  {
   "cell_type": "code",
   "execution_count": 9,
   "metadata": {},
   "outputs": [
    {
     "data": {
      "text/plain": [
       "0.9999953720660103"
      ]
     },
     "execution_count": 9,
     "metadata": {},
     "output_type": "execute_result"
    }
   ],
   "source": [
    "# Evaluate the decision tree\n",
    "my_decision_tree.score(X,y)"
   ]
  },
  {
   "cell_type": "code",
   "execution_count": 10,
   "metadata": {
    "scrolled": false
   },
   "outputs": [
    {
     "name": "stdout",
     "output_type": "stream",
     "text": [
      "Decision Tree: 2017-18 Season MVP prediction:\n"
     ]
    },
    {
     "data": {
      "text/html": [
       "<div>\n",
       "<style scoped>\n",
       "    .dataframe tbody tr th:only-of-type {\n",
       "        vertical-align: middle;\n",
       "    }\n",
       "\n",
       "    .dataframe tbody tr th {\n",
       "        vertical-align: top;\n",
       "    }\n",
       "\n",
       "    .dataframe thead th {\n",
       "        text-align: right;\n",
       "    }\n",
       "</style>\n",
       "<table border=\"1\" class=\"dataframe\">\n",
       "  <thead>\n",
       "    <tr style=\"text-align: right;\">\n",
       "      <th></th>\n",
       "      <th>Player</th>\n",
       "      <th>score</th>\n",
       "    </tr>\n",
       "  </thead>\n",
       "  <tbody>\n",
       "    <tr>\n",
       "      <th>193</th>\n",
       "      <td>James Harden</td>\n",
       "      <td>0.940000</td>\n",
       "    </tr>\n",
       "    <tr>\n",
       "      <th>111</th>\n",
       "      <td>DeMarcus Cousins</td>\n",
       "      <td>0.627000</td>\n",
       "    </tr>\n",
       "    <tr>\n",
       "      <th>507</th>\n",
       "      <td>Russell Westbrook</td>\n",
       "      <td>0.522000</td>\n",
       "    </tr>\n",
       "    <tr>\n",
       "      <th>172</th>\n",
       "      <td>Paul George</td>\n",
       "      <td>0.020000</td>\n",
       "    </tr>\n",
       "    <tr>\n",
       "      <th>15</th>\n",
       "      <td>Giannis Antetokounmpo</td>\n",
       "      <td>0.000035</td>\n",
       "    </tr>\n",
       "  </tbody>\n",
       "</table>\n",
       "</div>"
      ],
      "text/plain": [
       "                    Player     score\n",
       "193           James Harden  0.940000\n",
       "111       DeMarcus Cousins  0.627000\n",
       "507      Russell Westbrook  0.522000\n",
       "172            Paul George  0.020000\n",
       "15   Giannis Antetokounmpo  0.000035"
      ]
     },
     "execution_count": 10,
     "metadata": {},
     "output_type": "execute_result"
    }
   ],
   "source": [
    "# get the test X\n",
    "X_test = clean_test_set.drop(['First','Share','Pts Won','Pts Max'], axis=1)\n",
    "\n",
    "#use the build in function predict to predict the test data\n",
    "test_pred = my_decision_tree.predict(X_test)\n",
    "\n",
    "test_results = pd.DataFrame(clean_test_set)\n",
    "test_results['score'] = test_pred\n",
    "\n",
    "# we delete the player field in previous step, so we join the player to illustrate which player would get the higher mvp score\n",
    "final_pd = pd.merge(test_results,out_put_player,on=['Age','G_x','MP_x','FG','FGA','2P','2PA','3PA','3P','FT','FTA','ORB','DRB','TOV','PF','FG%','2P%','3P%','eFG%','FT%','TS%','First','Pts Won','Pts Max','Share','W','L'])\n",
    "\n",
    "\n",
    "final_pd = final_pd[['Player','score']]\n",
    "print('Decision Tree: 2017-18 Season MVP prediction:')\n",
    "final_pd.sort_values('score', ascending=False).head(5)\n"
   ]
  },
  {
   "cell_type": "code",
   "execution_count": 11,
   "metadata": {},
   "outputs": [],
   "source": [
    "#The format of final data is slightly different to the regular season data, \n",
    "#so we need more precess to fetch the data in correct way\n",
    "X_test_Final = pd.read_csv('../Dataset/final_file_raw.csv')\n",
    "X_test_Final.fillna(0, inplace = True)\n",
    "my_final_player = pd.read_csv('../Dataset/final_with_player.csv')\n",
    "my_final_player.fillna(0, inplace = True)"
   ]
  },
  {
   "cell_type": "code",
   "execution_count": 12,
   "metadata": {},
   "outputs": [
    {
     "name": "stdout",
     "output_type": "stream",
     "text": [
      "Random Forest: 2017-18 Season MVP prediction:\n"
     ]
    },
    {
     "data": {
      "text/html": [
       "<div>\n",
       "<style scoped>\n",
       "    .dataframe tbody tr th:only-of-type {\n",
       "        vertical-align: middle;\n",
       "    }\n",
       "\n",
       "    .dataframe tbody tr th {\n",
       "        vertical-align: top;\n",
       "    }\n",
       "\n",
       "    .dataframe thead th {\n",
       "        text-align: right;\n",
       "    }\n",
       "</style>\n",
       "<table border=\"1\" class=\"dataframe\">\n",
       "  <thead>\n",
       "    <tr style=\"text-align: right;\">\n",
       "      <th></th>\n",
       "      <th>Player</th>\n",
       "      <th>score</th>\n",
       "    </tr>\n",
       "  </thead>\n",
       "  <tbody>\n",
       "    <tr>\n",
       "      <th>193</th>\n",
       "      <td>James Harden</td>\n",
       "      <td>0.391000</td>\n",
       "    </tr>\n",
       "    <tr>\n",
       "      <th>247</th>\n",
       "      <td>LeBron James</td>\n",
       "      <td>0.319240</td>\n",
       "    </tr>\n",
       "    <tr>\n",
       "      <th>507</th>\n",
       "      <td>Russell Westbrook</td>\n",
       "      <td>0.169880</td>\n",
       "    </tr>\n",
       "    <tr>\n",
       "      <th>297</th>\n",
       "      <td>Damian Lillard</td>\n",
       "      <td>0.116440</td>\n",
       "    </tr>\n",
       "    <tr>\n",
       "      <th>121</th>\n",
       "      <td>Anthony Davis</td>\n",
       "      <td>0.090123</td>\n",
       "    </tr>\n",
       "  </tbody>\n",
       "</table>\n",
       "</div>"
      ],
      "text/plain": [
       "                Player     score\n",
       "193       James Harden  0.391000\n",
       "247       LeBron James  0.319240\n",
       "507  Russell Westbrook  0.169880\n",
       "297     Damian Lillard  0.116440\n",
       "121      Anthony Davis  0.090123"
      ]
     },
     "execution_count": 12,
     "metadata": {},
     "output_type": "execute_result"
    }
   ],
   "source": [
    "# Try again with Random Forest\n",
    "my_rdfroest = ensemble.RandomForestRegressor(n_estimators=25)\n",
    "my_rdfroest.fit(X,y)\n",
    "test_pred = my_rdfroest.predict(X_test)\n",
    "\n",
    "test_results = pd.DataFrame(clean_test_set)\n",
    "test_results['score'] = test_pred\n",
    "\n",
    "# we delete the player field in previous step, so we join the player to illustrate which player would get the higher mvp score\n",
    "final_pd = pd.merge(test_results,out_put_player,on=['Age','G_x','MP_x','FG','FGA','2P','2PA','3PA','3P','FT','FTA','ORB','DRB','TOV','PF','FG%','2P%','3P%','eFG%','FT%','TS%','First','Pts Won','Pts Max','Share','W','L'])\n",
    "\n",
    "final_pd = final_pd[['Player','score']]\n",
    "print('Random Forest: 2017-18 Season MVP prediction:')\n",
    "final_pd.sort_values('score', ascending=False).head(5)"
   ]
  },
  {
   "cell_type": "code",
   "execution_count": 13,
   "metadata": {},
   "outputs": [
    {
     "name": "stdout",
     "output_type": "stream",
     "text": [
      "Gradient Boosting: 2017-18 Season MVP prediction:\n"
     ]
    },
    {
     "data": {
      "text/html": [
       "<div>\n",
       "<style scoped>\n",
       "    .dataframe tbody tr th:only-of-type {\n",
       "        vertical-align: middle;\n",
       "    }\n",
       "\n",
       "    .dataframe tbody tr th {\n",
       "        vertical-align: top;\n",
       "    }\n",
       "\n",
       "    .dataframe thead th {\n",
       "        text-align: right;\n",
       "    }\n",
       "</style>\n",
       "<table border=\"1\" class=\"dataframe\">\n",
       "  <thead>\n",
       "    <tr style=\"text-align: right;\">\n",
       "      <th></th>\n",
       "      <th>Player</th>\n",
       "      <th>score</th>\n",
       "    </tr>\n",
       "  </thead>\n",
       "  <tbody>\n",
       "    <tr>\n",
       "      <th>193</th>\n",
       "      <td>James Harden</td>\n",
       "      <td>0.512477</td>\n",
       "    </tr>\n",
       "    <tr>\n",
       "      <th>247</th>\n",
       "      <td>LeBron James</td>\n",
       "      <td>0.422109</td>\n",
       "    </tr>\n",
       "    <tr>\n",
       "      <th>507</th>\n",
       "      <td>Russell Westbrook</td>\n",
       "      <td>0.197394</td>\n",
       "    </tr>\n",
       "    <tr>\n",
       "      <th>121</th>\n",
       "      <td>Anthony Davis</td>\n",
       "      <td>0.126623</td>\n",
       "    </tr>\n",
       "    <tr>\n",
       "      <th>262</th>\n",
       "      <td>Nikola Jokic</td>\n",
       "      <td>0.098121</td>\n",
       "    </tr>\n",
       "  </tbody>\n",
       "</table>\n",
       "</div>"
      ],
      "text/plain": [
       "                Player     score\n",
       "193       James Harden  0.512477\n",
       "247       LeBron James  0.422109\n",
       "507  Russell Westbrook  0.197394\n",
       "121      Anthony Davis  0.126623\n",
       "262       Nikola Jokic  0.098121"
      ]
     },
     "execution_count": 13,
     "metadata": {},
     "output_type": "execute_result"
    }
   ],
   "source": [
    "#using Gradient Boosting to predict the result\n",
    "GBR = ensemble.GradientBoostingRegressor()\n",
    "GBR.fit(X,y)\n",
    "GBR_test_pred = GBR.predict(X_test)\n",
    "GBR_test_results = pd.DataFrame(clean_test_set)\n",
    "GBR_test_results['score'] = GBR_test_pred\n",
    "final_pd = pd.merge(GBR_test_results,out_put_player,on=['Age','G_x','MP_x','FG','FGA','2P','2PA','3PA','3P','FT','FTA','ORB','DRB','TOV','PF','FG%','2P%','3P%','eFG%','FT%','TS%','First','Pts Won','Pts Max','Share','W','L'])\n",
    "\n",
    "final_pd = final_pd[['Player','score']]\n",
    "print('Gradient Boosting: 2017-18 Season MVP prediction:')\n",
    "final_pd.sort_values('score', ascending=False).head(5)"
   ]
  },
  {
   "cell_type": "code",
   "execution_count": 14,
   "metadata": {},
   "outputs": [
    {
     "name": "stdout",
     "output_type": "stream",
     "text": [
      "Decision Tree: 2017-18 Finals MVP prediction:\n"
     ]
    },
    {
     "data": {
      "text/html": [
       "<div>\n",
       "<style scoped>\n",
       "    .dataframe tbody tr th:only-of-type {\n",
       "        vertical-align: middle;\n",
       "    }\n",
       "\n",
       "    .dataframe tbody tr th {\n",
       "        vertical-align: top;\n",
       "    }\n",
       "\n",
       "    .dataframe thead th {\n",
       "        text-align: right;\n",
       "    }\n",
       "</style>\n",
       "<table border=\"1\" class=\"dataframe\">\n",
       "  <thead>\n",
       "    <tr style=\"text-align: right;\">\n",
       "      <th></th>\n",
       "      <th>Unnamed: 0</th>\n",
       "      <th>score</th>\n",
       "    </tr>\n",
       "  </thead>\n",
       "  <tbody>\n",
       "    <tr>\n",
       "      <th>14</th>\n",
       "      <td>LeBron James</td>\n",
       "      <td>9.860000e-01</td>\n",
       "    </tr>\n",
       "    <tr>\n",
       "      <th>15</th>\n",
       "      <td>Kevin Love</td>\n",
       "      <td>4.840000e-01</td>\n",
       "    </tr>\n",
       "    <tr>\n",
       "      <th>3</th>\n",
       "      <td>Draymond Green</td>\n",
       "      <td>3.800000e-02</td>\n",
       "    </tr>\n",
       "    <tr>\n",
       "      <th>13</th>\n",
       "      <td>Patrick McCaw</td>\n",
       "      <td>9.651733e-07</td>\n",
       "    </tr>\n",
       "    <tr>\n",
       "      <th>25</th>\n",
       "      <td>Jose Calderon</td>\n",
       "      <td>9.651733e-07</td>\n",
       "    </tr>\n",
       "    <tr>\n",
       "      <th>24</th>\n",
       "      <td>Ante Zizic</td>\n",
       "      <td>9.651733e-07</td>\n",
       "    </tr>\n",
       "    <tr>\n",
       "      <th>23</th>\n",
       "      <td>Kyle Korver</td>\n",
       "      <td>9.651733e-07</td>\n",
       "    </tr>\n",
       "    <tr>\n",
       "      <th>22</th>\n",
       "      <td>Jordan Clarkson</td>\n",
       "      <td>9.651733e-07</td>\n",
       "    </tr>\n",
       "    <tr>\n",
       "      <th>21</th>\n",
       "      <td>Jeff Green</td>\n",
       "      <td>9.651733e-07</td>\n",
       "    </tr>\n",
       "    <tr>\n",
       "      <th>20</th>\n",
       "      <td>Larry Nance</td>\n",
       "      <td>9.651733e-07</td>\n",
       "    </tr>\n",
       "  </tbody>\n",
       "</table>\n",
       "</div>"
      ],
      "text/plain": [
       "         Unnamed: 0         score\n",
       "14     LeBron James  9.860000e-01\n",
       "15       Kevin Love  4.840000e-01\n",
       "3    Draymond Green  3.800000e-02\n",
       "13    Patrick McCaw  9.651733e-07\n",
       "25    Jose Calderon  9.651733e-07\n",
       "24       Ante Zizic  9.651733e-07\n",
       "23      Kyle Korver  9.651733e-07\n",
       "22  Jordan Clarkson  9.651733e-07\n",
       "21       Jeff Green  9.651733e-07\n",
       "20      Larry Nance  9.651733e-07"
      ]
     },
     "execution_count": 14,
     "metadata": {},
     "output_type": "execute_result"
    }
   ],
   "source": [
    "#Decision Tree prediction\n",
    "#use the build in function predict to predict the test data\n",
    "final_pred = my_decision_tree.predict(X_test_Final)\n",
    "\n",
    "test_results_fame = pd.DataFrame(my_final_player)\n",
    "test_results_fame['score'] = final_pred\n",
    "\n",
    "test_results_fame = test_results_fame[['Unnamed: 0','score']]\n",
    "print('Decision Tree: 2017-18 Finals MVP prediction:')\n",
    "test_results_fame.sort_values('score', ascending=False).head(10)\n",
    "\n",
    "# The result would be a little be weird, because the 2P, 2PA and 2P% did not record in the Finals statics data\n",
    "#(many fields are 0) "
   ]
  },
  {
   "cell_type": "code",
   "execution_count": 15,
   "metadata": {},
   "outputs": [
    {
     "name": "stdout",
     "output_type": "stream",
     "text": [
      "Index([u'Age', u'G_x', u'GS', u'MP_x', u'FG', u'FGA', u'2P', u'2PA', u'3P',\n",
      "       u'3PA', u'FT', u'FTA', u'ORB', u'DRB', u'TRB_x', u'AST_x', u'STL_x',\n",
      "       u'BLK_x', u'TOV', u'PF', u'PTS_x', u'FG%', u'2P%', u'3P%', u'eFG%',\n",
      "       u'FT%', u'TS%', u'W', u'L'],\n",
      "      dtype='object')\n"
     ]
    }
   ],
   "source": [
    "print(X.columns)"
   ]
  },
  {
   "cell_type": "code",
   "execution_count": 16,
   "metadata": {},
   "outputs": [
    {
     "name": "stdout",
     "output_type": "stream",
     "text": [
      "Decision Tree: 2017-18 Finals MVP prediction (PTS, TRB, AST, TOV, W):\n"
     ]
    },
    {
     "data": {
      "text/html": [
       "<div>\n",
       "<style scoped>\n",
       "    .dataframe tbody tr th:only-of-type {\n",
       "        vertical-align: middle;\n",
       "    }\n",
       "\n",
       "    .dataframe tbody tr th {\n",
       "        vertical-align: top;\n",
       "    }\n",
       "\n",
       "    .dataframe thead th {\n",
       "        text-align: right;\n",
       "    }\n",
       "</style>\n",
       "<table border=\"1\" class=\"dataframe\">\n",
       "  <thead>\n",
       "    <tr style=\"text-align: right;\">\n",
       "      <th></th>\n",
       "      <th>Unnamed: 0</th>\n",
       "      <th>score</th>\n",
       "    </tr>\n",
       "  </thead>\n",
       "  <tbody>\n",
       "    <tr>\n",
       "      <th>1</th>\n",
       "      <td>Stephen Curry</td>\n",
       "      <td>0.998000</td>\n",
       "    </tr>\n",
       "    <tr>\n",
       "      <th>0</th>\n",
       "      <td>Kevin Durant</td>\n",
       "      <td>0.986000</td>\n",
       "    </tr>\n",
       "    <tr>\n",
       "      <th>14</th>\n",
       "      <td>LeBron James</td>\n",
       "      <td>0.704000</td>\n",
       "    </tr>\n",
       "    <tr>\n",
       "      <th>2</th>\n",
       "      <td>Klay Thompson</td>\n",
       "      <td>0.000004</td>\n",
       "    </tr>\n",
       "    <tr>\n",
       "      <th>25</th>\n",
       "      <td>Jose Calderon</td>\n",
       "      <td>0.000002</td>\n",
       "    </tr>\n",
       "  </tbody>\n",
       "</table>\n",
       "</div>"
      ],
      "text/plain": [
       "       Unnamed: 0     score\n",
       "1   Stephen Curry  0.998000\n",
       "0    Kevin Durant  0.986000\n",
       "14   LeBron James  0.704000\n",
       "2   Klay Thompson  0.000004\n",
       "25  Jose Calderon  0.000002"
      ]
     },
     "execution_count": 16,
     "metadata": {},
     "output_type": "execute_result"
    }
   ],
   "source": [
    "# What if we trim our variable lists...\n",
    "X_abbreviated = X[['PTS_x', 'TRB_x', 'AST_x', 'TOV', 'W']]\n",
    "X_test_Final_abbreviated = X_test_Final[['PTS_x', 'TRB_x', 'AST_x', 'TOV', 'W']]\n",
    "# Train your basic tree\n",
    "mod = tree.DecisionTreeRegressor()\n",
    "mod.fit(X_abbreviated,y)\n",
    "#mod = ensemble.RandomForestRegressor(n_estimators=250)\n",
    "#mod.fit(X_abbreviated,y)\n",
    "test_pred = mod.predict(X_test_Final_abbreviated)\n",
    "test_results = pd.DataFrame(my_final_player)\n",
    "test_results['score'] = test_pred\n",
    "test_results = test_results[['Unnamed: 0','score']]\n",
    "print('Decision Tree: 2017-18 Finals MVP prediction (PTS, TRB, AST, TOV, W):')\n",
    "test_results.sort_values('score', ascending=False).head()"
   ]
  },
  {
   "cell_type": "code",
   "execution_count": 17,
   "metadata": {},
   "outputs": [
    {
     "name": "stdout",
     "output_type": "stream",
     "text": [
      "Random Forest Tree: 2017-18 Finals MVP prediction:\n"
     ]
    },
    {
     "data": {
      "text/html": [
       "<div>\n",
       "<style scoped>\n",
       "    .dataframe tbody tr th:only-of-type {\n",
       "        vertical-align: middle;\n",
       "    }\n",
       "\n",
       "    .dataframe tbody tr th {\n",
       "        vertical-align: top;\n",
       "    }\n",
       "\n",
       "    .dataframe thead th {\n",
       "        text-align: right;\n",
       "    }\n",
       "</style>\n",
       "<table border=\"1\" class=\"dataframe\">\n",
       "  <thead>\n",
       "    <tr style=\"text-align: right;\">\n",
       "      <th></th>\n",
       "      <th>Unnamed: 0</th>\n",
       "      <th>score</th>\n",
       "    </tr>\n",
       "  </thead>\n",
       "  <tbody>\n",
       "    <tr>\n",
       "      <th>0</th>\n",
       "      <td>Kevin Durant</td>\n",
       "      <td>0.728000</td>\n",
       "    </tr>\n",
       "    <tr>\n",
       "      <th>1</th>\n",
       "      <td>Stephen Curry</td>\n",
       "      <td>0.607200</td>\n",
       "    </tr>\n",
       "    <tr>\n",
       "      <th>14</th>\n",
       "      <td>LeBron James</td>\n",
       "      <td>0.360202</td>\n",
       "    </tr>\n",
       "    <tr>\n",
       "      <th>15</th>\n",
       "      <td>Kevin Love</td>\n",
       "      <td>0.081762</td>\n",
       "    </tr>\n",
       "    <tr>\n",
       "      <th>3</th>\n",
       "      <td>Draymond Green</td>\n",
       "      <td>0.080440</td>\n",
       "    </tr>\n",
       "    <tr>\n",
       "      <th>2</th>\n",
       "      <td>Klay Thompson</td>\n",
       "      <td>0.008003</td>\n",
       "    </tr>\n",
       "    <tr>\n",
       "      <th>4</th>\n",
       "      <td>JaVale McGee</td>\n",
       "      <td>0.000003</td>\n",
       "    </tr>\n",
       "    <tr>\n",
       "      <th>10</th>\n",
       "      <td>David West</td>\n",
       "      <td>0.000003</td>\n",
       "    </tr>\n",
       "    <tr>\n",
       "      <th>12</th>\n",
       "      <td>Quinn Cook</td>\n",
       "      <td>0.000003</td>\n",
       "    </tr>\n",
       "    <tr>\n",
       "      <th>11</th>\n",
       "      <td>Nick Young</td>\n",
       "      <td>0.000003</td>\n",
       "    </tr>\n",
       "  </tbody>\n",
       "</table>\n",
       "</div>"
      ],
      "text/plain": [
       "        Unnamed: 0     score\n",
       "0     Kevin Durant  0.728000\n",
       "1    Stephen Curry  0.607200\n",
       "14    LeBron James  0.360202\n",
       "15      Kevin Love  0.081762\n",
       "3   Draymond Green  0.080440\n",
       "2    Klay Thompson  0.008003\n",
       "4     JaVale McGee  0.000003\n",
       "10      David West  0.000003\n",
       "12      Quinn Cook  0.000003\n",
       "11      Nick Young  0.000003"
      ]
     },
     "execution_count": 17,
     "metadata": {},
     "output_type": "execute_result"
    }
   ],
   "source": [
    "#use the build in function \"predict\" to predict the test data\n",
    "final_pred = my_rdfroest.predict(X_test_Final)\n",
    "\n",
    "test_results_fame = pd.DataFrame(my_final_player)\n",
    "test_results_fame['score'] = final_pred\n",
    "#print(test_pred)\n",
    "test_results_fame = test_results_fame[['Unnamed: 0','score']]\n",
    "print('Random Forest Tree: 2017-18 Finals MVP prediction:')\n",
    "test_results_fame.sort_values('score', ascending=False).head(10)\n"
   ]
  },
  {
   "cell_type": "code",
   "execution_count": 18,
   "metadata": {},
   "outputs": [
    {
     "name": "stdout",
     "output_type": "stream",
     "text": [
      "Random Forest: 2017-18 Finals MVP prediction (PTS, TRB, AST, TOV, W):\n"
     ]
    },
    {
     "data": {
      "text/html": [
       "<div>\n",
       "<style scoped>\n",
       "    .dataframe tbody tr th:only-of-type {\n",
       "        vertical-align: middle;\n",
       "    }\n",
       "\n",
       "    .dataframe tbody tr th {\n",
       "        vertical-align: top;\n",
       "    }\n",
       "\n",
       "    .dataframe thead th {\n",
       "        text-align: right;\n",
       "    }\n",
       "</style>\n",
       "<table border=\"1\" class=\"dataframe\">\n",
       "  <thead>\n",
       "    <tr style=\"text-align: right;\">\n",
       "      <th></th>\n",
       "      <th>Unnamed: 0</th>\n",
       "      <th>score</th>\n",
       "    </tr>\n",
       "  </thead>\n",
       "  <tbody>\n",
       "    <tr>\n",
       "      <th>1</th>\n",
       "      <td>Stephen Curry</td>\n",
       "      <td>0.873760</td>\n",
       "    </tr>\n",
       "    <tr>\n",
       "      <th>0</th>\n",
       "      <td>Kevin Durant</td>\n",
       "      <td>0.843800</td>\n",
       "    </tr>\n",
       "    <tr>\n",
       "      <th>14</th>\n",
       "      <td>LeBron James</td>\n",
       "      <td>0.576800</td>\n",
       "    </tr>\n",
       "    <tr>\n",
       "      <th>2</th>\n",
       "      <td>Klay Thompson</td>\n",
       "      <td>0.064243</td>\n",
       "    </tr>\n",
       "    <tr>\n",
       "      <th>3</th>\n",
       "      <td>Draymond Green</td>\n",
       "      <td>0.061721</td>\n",
       "    </tr>\n",
       "  </tbody>\n",
       "</table>\n",
       "</div>"
      ],
      "text/plain": [
       "        Unnamed: 0     score\n",
       "1    Stephen Curry  0.873760\n",
       "0     Kevin Durant  0.843800\n",
       "14    LeBron James  0.576800\n",
       "2    Klay Thompson  0.064243\n",
       "3   Draymond Green  0.061721"
      ]
     },
     "execution_count": 18,
     "metadata": {},
     "output_type": "execute_result"
    }
   ],
   "source": [
    "# What if we trim our variable lists...\n",
    "X_abbreviated = X[['PTS_x', 'TRB_x', 'AST_x', 'TOV', 'W']]\n",
    "X_test_Final_abbreviated = X_test_Final[['PTS_x', 'TRB_x', 'AST_x', 'TOV', 'W']]\n",
    "# Train your basic tree\n",
    "my_rdfroest = ensemble.RandomForestRegressor(n_estimators=25)\n",
    "my_rdfroest.fit(X_abbreviated,y)\n",
    "#mod = tree.DecisionTreeRegressor()\n",
    "#mod.fit(X_abbreviated,y)\n",
    "#mod = ensemble.RandomForestRegressor(n_estimators=250)\n",
    "#mod.fit(X_abbreviated,y)\n",
    "test_pred = my_rdfroest.predict(X_test_Final_abbreviated)\n",
    "test_results = pd.DataFrame(my_final_player)\n",
    "test_results['score'] = test_pred\n",
    "test_results = test_results[['Unnamed: 0','score']]\n",
    "print('Random Forest: 2017-18 Finals MVP prediction (PTS, TRB, AST, TOV, W):')\n",
    "test_results.sort_values('score', ascending=False).head()"
   ]
  },
  {
   "cell_type": "code",
   "execution_count": 19,
   "metadata": {},
   "outputs": [
    {
     "name": "stdout",
     "output_type": "stream",
     "text": [
      "Gradient Boosting: 2017-18 Finals MVP prediction:\n"
     ]
    },
    {
     "data": {
      "text/html": [
       "<div>\n",
       "<style scoped>\n",
       "    .dataframe tbody tr th:only-of-type {\n",
       "        vertical-align: middle;\n",
       "    }\n",
       "\n",
       "    .dataframe tbody tr th {\n",
       "        vertical-align: top;\n",
       "    }\n",
       "\n",
       "    .dataframe thead th {\n",
       "        text-align: right;\n",
       "    }\n",
       "</style>\n",
       "<table border=\"1\" class=\"dataframe\">\n",
       "  <thead>\n",
       "    <tr style=\"text-align: right;\">\n",
       "      <th></th>\n",
       "      <th>Unnamed: 0</th>\n",
       "      <th>score</th>\n",
       "    </tr>\n",
       "  </thead>\n",
       "  <tbody>\n",
       "    <tr>\n",
       "      <th>0</th>\n",
       "      <td>Kevin Durant</td>\n",
       "      <td>0.729660</td>\n",
       "    </tr>\n",
       "    <tr>\n",
       "      <th>1</th>\n",
       "      <td>Stephen Curry</td>\n",
       "      <td>0.372489</td>\n",
       "    </tr>\n",
       "    <tr>\n",
       "      <th>14</th>\n",
       "      <td>LeBron James</td>\n",
       "      <td>0.333794</td>\n",
       "    </tr>\n",
       "    <tr>\n",
       "      <th>3</th>\n",
       "      <td>Draymond Green</td>\n",
       "      <td>0.026112</td>\n",
       "    </tr>\n",
       "    <tr>\n",
       "      <th>15</th>\n",
       "      <td>Kevin Love</td>\n",
       "      <td>0.013948</td>\n",
       "    </tr>\n",
       "  </tbody>\n",
       "</table>\n",
       "</div>"
      ],
      "text/plain": [
       "        Unnamed: 0     score\n",
       "0     Kevin Durant  0.729660\n",
       "1    Stephen Curry  0.372489\n",
       "14    LeBron James  0.333794\n",
       "3   Draymond Green  0.026112\n",
       "15      Kevin Love  0.013948"
      ]
     },
     "execution_count": 19,
     "metadata": {},
     "output_type": "execute_result"
    }
   ],
   "source": [
    "#using Gradient Boosting to predict the result\n",
    "GBR = ensemble.GradientBoostingRegressor()\n",
    "GBR.fit(X,y)\n",
    "GBR_test_pred = GBR.predict(X_test_Final)\n",
    "GBR_test_results = pd.DataFrame(my_final_player)\n",
    "GBR_test_results['score'] = GBR_test_pred\n",
    "GBR_test_results = GBR_test_results[['Unnamed: 0','score']]\n",
    "print('Gradient Boosting: 2017-18 Finals MVP prediction:')\n",
    "GBR_test_results.sort_values('score', ascending=False).head(5)\n"
   ]
  },
  {
   "cell_type": "code",
   "execution_count": 20,
   "metadata": {},
   "outputs": [
    {
     "name": "stdout",
     "output_type": "stream",
     "text": [
      "Gradient Boosting: 2017-18 Finals MVP prediction (PTS, TRB, AST, TOV, W):\n"
     ]
    },
    {
     "data": {
      "text/html": [
       "<div>\n",
       "<style scoped>\n",
       "    .dataframe tbody tr th:only-of-type {\n",
       "        vertical-align: middle;\n",
       "    }\n",
       "\n",
       "    .dataframe tbody tr th {\n",
       "        vertical-align: top;\n",
       "    }\n",
       "\n",
       "    .dataframe thead th {\n",
       "        text-align: right;\n",
       "    }\n",
       "</style>\n",
       "<table border=\"1\" class=\"dataframe\">\n",
       "  <thead>\n",
       "    <tr style=\"text-align: right;\">\n",
       "      <th></th>\n",
       "      <th>Unnamed: 0</th>\n",
       "      <th>score</th>\n",
       "    </tr>\n",
       "  </thead>\n",
       "  <tbody>\n",
       "    <tr>\n",
       "      <th>1</th>\n",
       "      <td>Stephen Curry</td>\n",
       "      <td>0.873760</td>\n",
       "    </tr>\n",
       "    <tr>\n",
       "      <th>0</th>\n",
       "      <td>Kevin Durant</td>\n",
       "      <td>0.843800</td>\n",
       "    </tr>\n",
       "    <tr>\n",
       "      <th>14</th>\n",
       "      <td>LeBron James</td>\n",
       "      <td>0.576800</td>\n",
       "    </tr>\n",
       "    <tr>\n",
       "      <th>2</th>\n",
       "      <td>Klay Thompson</td>\n",
       "      <td>0.064243</td>\n",
       "    </tr>\n",
       "    <tr>\n",
       "      <th>3</th>\n",
       "      <td>Draymond Green</td>\n",
       "      <td>0.061721</td>\n",
       "    </tr>\n",
       "  </tbody>\n",
       "</table>\n",
       "</div>"
      ],
      "text/plain": [
       "        Unnamed: 0     score\n",
       "1    Stephen Curry  0.873760\n",
       "0     Kevin Durant  0.843800\n",
       "14    LeBron James  0.576800\n",
       "2    Klay Thompson  0.064243\n",
       "3   Draymond Green  0.061721"
      ]
     },
     "execution_count": 20,
     "metadata": {},
     "output_type": "execute_result"
    }
   ],
   "source": [
    "# What if we trim our variable lists...\n",
    "X_abbreviated = X[['PTS_x', 'TRB_x', 'AST_x', 'TOV', 'W']]\n",
    "X_test_Final_abbreviated = X_test_Final[['PTS_x', 'TRB_x', 'AST_x', 'TOV', 'W']]\n",
    "# Train your basic tree\n",
    "GBR = ensemble.GradientBoostingRegressor()\n",
    "GBR.fit(X_abbreviated,y)\n",
    "test_pred = my_rdfroest.predict(X_test_Final_abbreviated)\n",
    "test_results = pd.DataFrame(my_final_player)\n",
    "test_results['score'] = test_pred\n",
    "test_results = test_results[['Unnamed: 0','score']]\n",
    "print('Gradient Boosting: 2017-18 Finals MVP prediction (PTS, TRB, AST, TOV, W):')\n",
    "test_results.sort_values('score', ascending=False).head()"
   ]
  },
  {
   "cell_type": "code",
   "execution_count": null,
   "metadata": {},
   "outputs": [],
   "source": []
  }
 ],
 "metadata": {
  "kernelspec": {
   "display_name": "Python 3",
   "language": "python",
   "name": "python3"
  },
  "language_info": {
   "codemirror_mode": {
    "name": "ipython",
    "version": 3
   },
   "file_extension": ".py",
   "mimetype": "text/x-python",
   "name": "python",
   "nbconvert_exporter": "python",
   "pygments_lexer": "ipython3",
   "version": "3.6.2"
  }
 },
 "nbformat": 4,
 "nbformat_minor": 2
}
