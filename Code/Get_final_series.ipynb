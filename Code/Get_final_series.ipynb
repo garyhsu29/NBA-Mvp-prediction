{
 "cells": [
  {
   "cell_type": "code",
   "execution_count": 2,
   "metadata": {},
   "outputs": [],
   "source": [
    "from bs4 import BeautifulSoup\n",
    "import requests"
   ]
  },
  {
   "cell_type": "code",
   "execution_count": 3,
   "metadata": {},
   "outputs": [
    {
     "name": "stdout",
     "output_type": "stream",
     "text": [
      "OK\n"
     ]
    }
   ],
   "source": [
    "link_2018 = requests.get(\"https://www.basketball-reference.com/playoffs/2018-nba-finals-cavaliers-vs-warriors.html\")\n",
    "\n",
    "if link_2018.status_code == requests.codes.ok:\n",
    "    print(\"OK\")\n",
    "else:\n",
    "    print(\"Webpage Broke\")"
   ]
  },
  {
   "cell_type": "code",
   "execution_count": 4,
   "metadata": {},
   "outputs": [],
   "source": [
    "NBA_2018_doc = link_2018.text\n",
    "NBA_2018_soup = BeautifulSoup(NBA_2018_doc, 'html.parser')\n",
    "NBA_2018_tag_th = NBA_2018_soup.find_all(\"th\")\n",
    "NBA_2018_tag_td = NBA_2018_soup.find_all(\"td\")"
   ]
  },
  {
   "cell_type": "code",
   "execution_count": 5,
   "metadata": {},
   "outputs": [],
   "source": [
    "k=0\n",
    "field_name = []\n",
    "\n",
    "def fetch_record(NBA_tag_td) :\n",
    "    i = 0\n",
    "    record = []\n",
    "    for tag in NBA_tag_td:\n",
    "        record.append(tag.string)\n",
    "    return record\n",
    "\n",
    "\n",
    "for tag in NBA_2018_tag_th:\n",
    "    k += 1 \n",
    "    if 6 <= k <= 34:\n",
    "        field_name.append(tag.string)\n",
    "\n",
    "def ave_loop(start,team_num,record):\n",
    "    my_dict = {}\n",
    "    for i in range (team_num):\n",
    "        my_dict[record[i*29 + start-1]] = record[(i*29)+start : (i*29) +start+22]\n",
    "    return my_dict"
   ]
  },
  {
   "cell_type": "code",
   "execution_count": 6,
   "metadata": {},
   "outputs": [],
   "source": [
    "record_2018 = fetch_record(NBA_2018_tag_td)\n",
    "\n",
    "GSW_2018 = ave_loop(53,14,record_2018)\n",
    "CLE_2018 = ave_loop(488,13,record_2018)\n"
   ]
  },
  {
   "cell_type": "code",
   "execution_count": 7,
   "metadata": {},
   "outputs": [],
   "source": [
    "norm_fac = 82.0/4.0\n",
    "def normalize_raw(my_dict):\n",
    "    for k in my_dict:\n",
    "        for i in range (len(my_dict[k])):\n",
    "            if 0 < i%29 <19 and my_dict[k][i] != None:\n",
    "                 my_dict[k][i] = int(int(my_dict[k][i]) * norm_fac)\n",
    "normalize_raw(GSW_2018)\n",
    "normalize_raw(CLE_2018)\n"
   ]
  },
  {
   "cell_type": "code",
   "execution_count": 8,
   "metadata": {},
   "outputs": [],
   "source": [
    "over_all_2018 = {**GSW_2018,**CLE_2018}"
   ]
  },
  {
   "cell_type": "code",
   "execution_count": 10,
   "metadata": {},
   "outputs": [],
   "source": [
    "import pandas as pd\n",
    "df2018 = pd.DataFrame.from_dict(over_all_2018, orient=\"index\")\n",
    "df2018.columns = field_name[1:23]\n",
    "df2018.to_csv(\"../Dataset/2018data_raw.csv\")"
   ]
  },
  {
   "cell_type": "code",
   "execution_count": null,
   "metadata": {},
   "outputs": [],
   "source": []
  }
 ],
 "metadata": {
  "kernelspec": {
   "display_name": "Python 3",
   "language": "python",
   "name": "python3"
  },
  "language_info": {
   "codemirror_mode": {
    "name": "ipython",
    "version": 3
   },
   "file_extension": ".py",
   "mimetype": "text/x-python",
   "name": "python",
   "nbconvert_exporter": "python",
   "pygments_lexer": "ipython3",
   "version": "3.6.2"
  }
 },
 "nbformat": 4,
 "nbformat_minor": 2
}
