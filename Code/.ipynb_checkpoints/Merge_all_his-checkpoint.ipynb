{
 "cells": [
  {
   "cell_type": "code",
   "execution_count": 1,
   "metadata": {},
   "outputs": [],
   "source": [
    "import pandas as pd"
   ]
  },
  {
   "cell_type": "markdown",
   "metadata": {},
   "source": [
    "Merge the Regular season data"
   ]
  },
  {
   "cell_type": "code",
   "execution_count": 2,
   "metadata": {},
   "outputs": [],
   "source": [
    "mvp_file = pd.read_csv('../Dataset/all_mvp_his.csv')\n",
    "his_file = pd.read_csv('../Dataset/all_his.csv')\n",
    "team_file = pd.read_csv (\"../Dataset/all_team_his.csv\")\n",
    "#print(mvp_file)\n",
    "\n",
    "mvp_and_his = pd.merge(his_file,mvp_file,on=['Player','Age','Tm','Season','G','FG%',\"3P%\",'FT%'],how='left')\n",
    "final_file = pd.merge(mvp_and_his,team_file,on=['Tm','Season'],how='left')"
   ]
  },
  {
   "cell_type": "code",
   "execution_count": 3,
   "metadata": {},
   "outputs": [],
   "source": [
    "my_wf = pd.DataFrame(final_file)\n",
    "my_wf.to_csv('../Dataset/all_his_join.csv', mode='w',index=False, header=True)"
   ]
  },
  {
   "cell_type": "markdown",
   "metadata": {},
   "source": [
    "Merge the Finals data"
   ]
  },
  {
   "cell_type": "code",
   "execution_count": 4,
   "metadata": {},
   "outputs": [],
   "source": [
    "\n",
    "advance_file = pd.read_csv('../Dataset/Final_advance_data.csv')\n",
    "final_series_file = pd.read_csv('../Dataset/2018data_raw.csv')\n",
    "\n",
    "#print(final_series_file)\n",
    "\n",
    "his_with_adv = pd.merge(final_series_file,advance_file,left_on=['Unnamed: 0'],right_on =['Player'],how='left')\n",
    "clean_final = his_with_adv.drop(['Age_y','Player'],axis=1)\n",
    "my_df = pd.DataFrame(clean_final)\n",
    "my_df.to_csv('../Dataset/final_with_player.csv',mode='w',index=False,header=True)\n",
    "my_df.insert(loc=1,column='2P',value='')\n",
    "my_df.insert(loc=1,column='2PA',value='')\n",
    "\n",
    "my_df.insert(loc=1,column='2P%',value='')\n",
    "re_orderdf = my_df[['Age_x','G','GS','MP','FG','FGA','2P','2PA','3P','3PA','FT','FTA','ORB','DRB','TRB','AST','STL','BLK','TOV','PF','PTS','FG%','2P%','3P%','eFG%','FT%','TS%','W','L']]\n",
    "re_orderdf = re_orderdf.rename(columns={'Age_x':\"Age\",\"G\":\"G_x\",\"MP\":\"MP_x\",'TRB':'TRB_x','AST':'AST_x','STL':'STL_x','BLK':'BLK_x','PTS':'PTS_x'})\n",
    "re_orderdf.to_csv('../Dataset/final_file_raw.csv', mode='w',index=False, header=True)"
   ]
  }
 ],
 "metadata": {
  "kernelspec": {
   "display_name": "Python 3",
   "language": "python",
   "name": "python3"
  },
  "language_info": {
   "codemirror_mode": {
    "name": "ipython",
    "version": 3
   },
   "file_extension": ".py",
   "mimetype": "text/x-python",
   "name": "python",
   "nbconvert_exporter": "python",
   "pygments_lexer": "ipython3",
   "version": "3.6.2"
  }
 },
 "nbformat": 4,
 "nbformat_minor": 2
}
